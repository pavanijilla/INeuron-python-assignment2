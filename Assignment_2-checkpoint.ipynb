{
 "cells": [
  {
   "cell_type": "code",
   "execution_count": 1,
   "metadata": {},
   "outputs": [
    {
     "name": "stdout",
     "output_type": "stream",
     "text": [
      "15\n"
     ]
    }
   ],
   "source": [
    "'''Task 1:    \n",
    "1.1   \n",
    "Write a Python Program to implement your own myreduce() function which works exactly like Python's built-in function reduce()'''\n",
    "\n",
    "def sum(x1, x2): \n",
    "    return x1 + x2\n",
    "\n",
    "def myreduce(func, seq):\n",
    "    first = seq[0]\n",
    "    for i in seq[1:]:\n",
    "        first = func(first, i)\n",
    "    return first\n",
    "\n",
    "print(myreduce(sum, [1,2,3,4,5]))"
   ]
  },
  {
   "cell_type": "code",
   "execution_count": 2,
   "metadata": {},
   "outputs": [
    {
     "name": "stdout",
     "output_type": "stream",
     "text": [
      "your score is : 65\n",
      "your score is : 87\n",
      "your score is : 67\n",
      "your score is : 54\n",
      "your score is : 65\n",
      "your score is : 90\n"
     ]
    }
   ],
   "source": [
    "'''1.2   \n",
    "Write a Python program to implement your own myfilter() function which works exactly like Python's built-in function filter() '''\n",
    "\n",
    "\n",
    "score =[20,35,65,87,67,54,34,65,21,23,90]\n",
    "def my_fun(x):\n",
    " if x < 50:\n",
    "        return False\n",
    " else:\n",
    "        return True\n",
    "    \n",
    "high_score= filter(my_fun,score)\n",
    "   \n",
    "for x in high_score:\n",
    "      print(\"your score is :\", x)"
   ]
  },
  {
   "cell_type": "code",
   "execution_count": 3,
   "metadata": {},
   "outputs": [
    {
     "name": "stdout",
     "output_type": "stream",
     "text": [
      "['A', 'C', 'A', 'D', 'G', 'I', 'L', 'D']\n"
     ]
    }
   ],
   "source": [
    "'''2.   \n",
    "Implement List comprehensions to produce the following lists.  \n",
    "Write List comprehensions to produce the following Lists  \n",
    "['A', 'C', 'A', 'D', 'G', 'I', ’L’, ‘ D’] '''\n",
    "\n",
    "list=[leter for leter in \"ACADGILD\"]\n",
    "print(list)"
   ]
  },
  {
   "cell_type": "code",
   "execution_count": 4,
   "metadata": {},
   "outputs": [
    {
     "name": "stdout",
     "output_type": "stream",
     "text": [
      "['x', 'xx', 'xxx', 'xxxx', 'y', 'yy', 'yyy', 'yyyy', 'z', 'zz', 'zzz', 'zzzz']\n"
     ]
    }
   ],
   "source": [
    "'''['x', 'xx', 'xxx', 'xxxx', 'y', 'yy', 'yyy', 'yyyy', 'z', 'zz', 'zzz', 'zzzz'] '''\n",
    "\n",
    "list=range(1,5)\n",
    "listleters=[\"x\",\"y\",\"z\"]\n",
    "print([i*j for i in listleters for j in list ])"
   ]
  },
  {
   "cell_type": "code",
   "execution_count": 5,
   "metadata": {},
   "outputs": [
    {
     "name": "stdout",
     "output_type": "stream",
     "text": [
      "['x', 'y', 'z', 'xx', 'yy', 'zz', 'xxx', 'yyy', 'zzz', 'xxxx', 'yyyy', 'zzzz']\n"
     ]
    }
   ],
   "source": [
    "'''['x', 'y', 'z', 'xx', 'yy', 'zz', 'xx', 'yy', 'zz', 'xxxx', 'yyyy', 'zzzz'] '''\n",
    "\n",
    "list=range(1,5)\n",
    "listletters=[\"x\",\"y\",\"z\"]\n",
    "print([i*j for i in list for j in listleters])"
   ]
  },
  {
   "cell_type": "code",
   "execution_count": 6,
   "metadata": {},
   "outputs": [
    {
     "data": {
      "text/plain": [
       "[[2], [3], [4], [3], [4], [5], [4], [5], [6]]"
      ]
     },
     "execution_count": 6,
     "metadata": {},
     "output_type": "execute_result"
    }
   ],
   "source": [
    "'''[[2], [3], [4], [3], [4], [5], [4], [5], [6]] '''\n",
    "\n",
    "list=[[x+y] for x in range(2,5) for y in range(0,3)]\n",
    "list"
   ]
  },
  {
   "cell_type": "code",
   "execution_count": 7,
   "metadata": {},
   "outputs": [
    {
     "name": "stdout",
     "output_type": "stream",
     "text": [
      "[[2, 3, 4, 5], [3, 4, 5, 6], [4, 5, 6, 7], [5, 6, 7, 8]]\n"
     ]
    }
   ],
   "source": [
    "'''[[2, 3, 4, 5], [3, 4, 5, 6], [4, 5, 6, 7], [5, 6, 7, 8]] '''\n",
    "\n",
    "list=[2,3,4,5,]\n",
    "result=[[j+i for i in range(4)] for j in list]\n",
    "print((result))"
   ]
  },
  {
   "cell_type": "code",
   "execution_count": 8,
   "metadata": {},
   "outputs": [
    {
     "name": "stdout",
     "output_type": "stream",
     "text": [
      "[(1, 1), (2, 1), (3, 1), (1, 2), (2, 2), (3, 2), (1, 3), (2, 3), (3, 3)]\n"
     ]
    }
   ],
   "source": [
    "'''[(1, 1), (2, 1), (3, 1), (1, 2), (2, 2), (3, 2), (1, 3), (2, 3), (3, 3)] '''\n",
    "\n",
    "list1=[1,2,3]\n",
    "list2=[1,2,3]\n",
    "print([(j,i) for i in list2 for j in list1])"
   ]
  },
  {
   "cell_type": "code",
   "execution_count": 9,
   "metadata": {},
   "outputs": [
    {
     "name": "stdout",
     "output_type": "stream",
     "text": [
      "Hyderabad\n"
     ]
    }
   ],
   "source": [
    "'''3.   \n",
    "Implement a function longestWord() that takes a list of words and returns the longest one. '''\n",
    "\n",
    "l=[\"my\",\"name\",\"is\",\"Pavani\",\"i\",\"am\",\"from\",\"Hyderabad\"]\n",
    "def longestWord(l):\n",
    "    word_len=[]\n",
    "    for n in l:\n",
    "        word_len.append((len(n),n))\n",
    "    word_len.sort()\n",
    "    return word_len[-1][1]\n",
    "print(longestWord(l))"
   ]
  },
  {
   "cell_type": "code",
   "execution_count": 10,
   "metadata": {},
   "outputs": [
    {
     "name": "stdout",
     "output_type": "stream",
     "text": [
      "Enter the first side of a triangle: 5\n",
      "Enter the second side of a triangle: 6\n",
      "Enter the third side of a triangle: 7\n",
      "14.696938456699069\n"
     ]
    }
   ],
   "source": [
    "'''Task 2:   \n",
    "1.1   \n",
    "Write a Python Program(with class concepts) to find the area of the triangle using the below formula.  \n",
    "area = (s*(s-a)*(s-b)*(s-c)) ** 0.5  \n",
    "Function to take the length of the sides of triangle from user should be defined in the parent class and function to calculate the area should be defined in subclass.'''\n",
    "\n",
    "class triangle():\n",
    "    def __init__(self,a,b,c):\n",
    "        self.a = a\n",
    "        self.b = b\n",
    "        self.c = c\n",
    "    def area(self):\n",
    "        s=(a + b + c)/2\n",
    "        area=(s*(s-a)*(s-b)*(s-c)) ** 0.5\n",
    "        return area\n",
    "a = int(input('Enter the first side of a triangle: '))\n",
    "b = int(input('Enter the second side of a triangle: '))\n",
    "c = int(input('Enter the third side of a triangle: '))    \n",
    "t = triangle(a, b, c)\n",
    "print(t.area())"
   ]
  },
  {
   "cell_type": "code",
   "execution_count": 11,
   "metadata": {},
   "outputs": [
    {
     "name": "stdout",
     "output_type": "stream",
     "text": [
      "Enter words:ab,abc,abcd,abcde,abcdef,abcdefg\n",
      "Enter Min Length:4\n",
      "Words with at least min length: ['abcd', 'abcde', 'abcdef', 'abcdefg']\n"
     ]
    }
   ],
   "source": [
    "'''1.2  \n",
    "Write a function filter_long_words() that takes a list of words and an integer n and returns the list of words that are longer than n.'''\n",
    "\n",
    "def filter_long_words(n,str):\n",
    "    words=[]\n",
    "    for j in n:\n",
    "        if(len(j)>=str):\n",
    "            words.append(j)\n",
    "    return words\n",
    "\n",
    "a=input(\"Enter words:\")\n",
    "b=a.split(\",\")\n",
    "c=input(\"Enter Min Length:\")\n",
    "long=filter_long_words(b,int(c))\n",
    "\n",
    "print(\"Words with at least min length:\",long)"
   ]
  },
  {
   "cell_type": "code",
   "execution_count": 14,
   "metadata": {},
   "outputs": [
    {
     "name": "stdout",
     "output_type": "stream",
     "text": [
      "List of words:['One', 'Two', 'Three', 'Four', 'Five']\n",
      "List of wordlength:[3, 3, 5, 4, 4]\n"
     ]
    }
   ],
   "source": [
    "'''2.1  \n",
    "Write a Python program using function concept that maps  list of words into a list of integers representing the lengths of the corresponding words​.  Hint: ​If a list [ ab,cde,erty] is passed on to the python function output should come as [2,3,4]  Here 2,3 and 4 are the lengths of the words in the list.'''\n",
    "\n",
    "listOfWords = ['One','Two','Three','Four','Five']\n",
    " \n",
    "listOfInts = []\n",
    "for i in range(len(listOfWords)):\n",
    "    listOfInts.append(len(listOfWords[i]))\n",
    " \n",
    "print (\"List of words:\"+str(listOfWords))    \n",
    "print (\"List of wordlength:\"+str(listOfInts))"
   ]
  },
  {
   "cell_type": "code",
   "execution_count": 15,
   "metadata": {},
   "outputs": [
    {
     "name": "stdout",
     "output_type": "stream",
     "text": [
      "enter a character :a\n",
      "a is a vowel\n"
     ]
    },
    {
     "data": {
      "text/plain": [
       "True"
      ]
     },
     "execution_count": 15,
     "metadata": {},
     "output_type": "execute_result"
    }
   ],
   "source": [
    "'''2.2  \n",
    "Write a Python function which takes a character (i.e. a string of length 1) and returns True if it is a vowel, False otherwise.'''\n",
    "\n",
    "def is_vowel(char):\n",
    "    if(char=='a' or char=='A' or char=='e' or char=='E'\n",
    "       or char=='i' or char=='I' or char=='o' or char=='O'\n",
    "       or char=='u' or char=='U'):\n",
    "        print(char, \"is a vowel\")\n",
    "        return True\n",
    "        \n",
    "    else:\n",
    "        print(char, \"is not a vowel\")\n",
    "        return False\n",
    "char=input(\"enter a character :\")\n",
    "is_vowel(char)"
   ]
  },
  {
   "cell_type": "code",
   "execution_count": null,
   "metadata": {},
   "outputs": [],
   "source": []
  }
 ],
 "metadata": {
  "kernelspec": {
   "display_name": "Python 3",
   "language": "python",
   "name": "python3"
  },
  "language_info": {
   "codemirror_mode": {
    "name": "ipython",
    "version": 3
   },
   "file_extension": ".py",
   "mimetype": "text/x-python",
   "name": "python",
   "nbconvert_exporter": "python",
   "pygments_lexer": "ipython3",
   "version": "3.7.6"
  }
 },
 "nbformat": 4,
 "nbformat_minor": 4
}
